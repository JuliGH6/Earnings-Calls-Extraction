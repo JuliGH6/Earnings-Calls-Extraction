{
 "cells": [
  {
   "cell_type": "code",
   "execution_count": 1,
   "metadata": {},
   "outputs": [],
   "source": [
    "import yfinance as yf\n",
    "from requests import Session\n",
    "from requests_cache import CacheMixin, SQLiteCache\n",
    "from requests_ratelimiter import LimiterMixin, MemoryQueueBucket\n",
    "from pyrate_limiter import Duration, RequestRate, Limiter\n",
    "\n",
    "# Define a session with caching and rate limiting\n",
    "class CachedLimiterSession(CacheMixin, LimiterMixin, Session):\n",
    "    pass\n",
    "\n",
    "session = CachedLimiterSession(\n",
    "    limiter=Limiter(RequestRate(3, Duration.SECOND*5)),  # max 2 requests per 5 seconds\n",
    "    bucket_class=MemoryQueueBucket,\n",
    "    backend=SQLiteCache(\"yfinance.cache\"),\n",
    ")\n",
    "\n",
    "# # Add a custom User-agent header\n",
    "# session.headers['User-agent'] = 'my-program/1.0'\n",
    "\n",
    "def getEPS(tickers):\n",
    "    earnings_dict = {}\n",
    "    for ticker in tickers:\n",
    "        try:\n",
    "            comp = yf.Ticker(ticker)\n",
    "            eps_data = comp.get_earnings_dates(limit=25)\n",
    "            \n",
    "            if eps_data is None or eps_data.empty:\n",
    "                raise ValueError(f\"No data found for {ticker}\")\n",
    "            \n",
    "            company_dict = {}\n",
    "            for date, row in eps_data.iterrows():\n",
    "                if all(key in row for key in ['EPS Estimate', 'Reported EPS', 'Surprise(%)']):\n",
    "                    if int(date.strftime('%Y%m%d'))<20240601:\n",
    "                        company_dict[date.strftime('%Y%m%d')] = {\n",
    "                            \"EPS Estimate\": float(row['EPS Estimate']),\n",
    "                            \"Reported EPS\": float(row['Reported EPS']),\n",
    "                            \"Surprise(%)\": float(row['Surprise(%)'])\n",
    "                        }\n",
    "                else:\n",
    "                    raise ValueError(f\"Missing data for {ticker} on {date}\")\n",
    "            earnings_dict[ticker] = company_dict\n",
    "        except Exception as e:\n",
    "            print(f\"Error for ticker {ticker}: {e}\")\n",
    "\n",
    "    return earnings_dict"
   ]
  },
  {
   "cell_type": "code",
   "execution_count": 2,
   "metadata": {},
   "outputs": [],
   "source": [
    "import pymupdf\n",
    "import os\n",
    "\n",
    "def getTicker(inFilePath):\n",
    "    doc = pymupdf.open(inFilePath) # open a document\n",
    "    text = doc[0].get_text('blocks', sort=True)[1][4]\n",
    "    s,e= 0,0\n",
    "    started = False\n",
    "    for i in range(len(text)):\n",
    "        if text[i] == '(':\n",
    "            s = i+1\n",
    "            started = True\n",
    "        if started and text[i]==' ':\n",
    "            e = i\n",
    "            break\n",
    "    return text[s:e]"
   ]
  },
  {
   "cell_type": "code",
   "execution_count": 3,
   "metadata": {},
   "outputs": [
    {
     "name": "stdout",
     "output_type": "stream",
     "text": [
      "54\n"
     ]
    },
    {
     "name": "stderr",
     "output_type": "stream",
     "text": [
      "CWEN/A: $CWEN/A: possibly delisted; No earnings dates found\n"
     ]
    },
    {
     "name": "stdout",
     "output_type": "stream",
     "text": [
      "Error for ticker CWEN/A: No data found for CWEN/A\n"
     ]
    }
   ],
   "source": [
    "import pandas as pd\n",
    "from datetime import datetime, timedelta\n",
    "import numpy as np\n",
    "\n",
    "# Replace 'file.csv' with the path to your CSV file\n",
    "df = pd.read_excel('UtilitiesNames.xlsx')\n",
    "\n",
    "fileNames = df['fileName'] \n",
    "inFolderPath = folder_path = os.getcwd() + '/Pdfs'\n",
    "\n",
    "TickerToFiles = {}\n",
    "\n",
    "for fileName in fileNames[:]:\n",
    "    pdfFileName = fileName[:-11]+'.pdf' \n",
    "    inFilePath = os.path.join(inFolderPath,pdfFileName)\n",
    "    ticker = getTicker(inFilePath)\n",
    "    if ticker in TickerToFiles:\n",
    "        TickerToFiles[ticker].append(fileName)\n",
    "    else: \n",
    "        TickerToFiles[ticker] = [fileName]\n",
    "\n",
    "\n",
    "tickers = list(TickerToFiles.keys())\n",
    "print(len(tickers))\n",
    "# # # print(getEPS(tickers[:180]), '\\n')\n",
    "\n",
    "yf_eps = getEPS(tickers)\n",
    "\n",
    "\n",
    "\n",
    "\n",
    "\n",
    "\n",
    "\n"
   ]
  },
  {
   "cell_type": "code",
   "execution_count": null,
   "metadata": {},
   "outputs": [],
   "source": [
    "nan = ''"
   ]
  },
  {
   "cell_type": "code",
   "execution_count": 6,
   "metadata": {},
   "outputs": [],
   "source": [
    "tickers = ['CWEN-A']\n",
    "yf_eps = getEPS(tickers)"
   ]
  },
  {
   "cell_type": "code",
   "execution_count": null,
   "metadata": {},
   "outputs": [],
   "source": [
    "yf_eps  ="
   ]
  },
  {
   "cell_type": "code",
   "execution_count": 7,
   "metadata": {},
   "outputs": [
    {
     "name": "stdout",
     "output_type": "stream",
     "text": [
      "{'AVA': ['20230802_Avista_Corp-_Earnings_Call_2023-8-02_DN000000003018188924_RESULT.txt', '20231101_Avista_Corp-_Earnings_Call_2023-11-01_RT000000003024937986_RESULT.txt', '20230503_Avista_Corp-_Earnings_Call_2023-5-03_DN000000003010484448_RESULT.txt', '20240221_Avista_Corp-_Earnings_Call_2024-2-21_DN000000003032183886_RESULT.txt'], 'SRE': ['20240227_Sempra-_Earnings_Call_2024-2-27_RT000000003032716095_RESULT.txt', '20230803_Sempra-_Earnings_Call_2023-8-03_RT000000003018321077_RESULT.txt', '20231103_Sempra-_Earnings_Call_2023-11-03_RT000000003025328657_RESULT.txt', '20230504_Sempra-_Earnings_Call_2023-5-04_DN000000003010629366_RESULT.txt'], 'LNT': ['20240216_Alliant_Energy_Corp-_Earnings_Call_2024-2-16_DN000000003034401198_RESULT.txt', '20230505_Alliant_Energy_Corp-_Earnings_Call_2023-5-05_DN000000003010728542_RESULT.txt', '20230804_Alliant_Energy_Corp-_Earnings_Call_2023-8-04_RT000000003018579648_RESULT.txt', '20231103_Alliant_Energy_Corp-_Earnings_Call_2023-11-03_DN000000003025260038_RESULT.txt'], 'PCG': ['20230504_PG-E_Corp-_Earnings_Call_2023-5-04_RT000000003010604338_RESULT.txt', '20240222_PG-E_Corp-_Earnings_Call_2024-2-22_RT000000003032334645_RESULT.txt', '20231026_PG-E_Corp-_Earnings_Call_2023-10-26_RT000000003024461667_RESULT.txt', '20230727_PG-E_Corp-_Earnings_Call_2023-7-27_DN000000003017795478_RESULT.txt'], 'AES': ['20231103_AES_Corp-The-_Earnings_Call_2023-11-03_RT000000003025234925_RESULT.txt', '20230804_AES_Corp-The-_Earnings_Call_2023-8-04_DN000000003018480023_RESULT.txt', '20240227_AES_Corp-The-_Earnings_Call_2024-2-27_DN000000003035461811_RESULT.txt', '20230505_AES_Corp-The-_Earnings_Call_2023-5-05_RT000000003010764538_RESULT.txt'], 'WEC': ['20230801_WEC_Energy_Group_Inc-_Earnings_Call_2023-8-01_RT000000003018083769_RESULT.txt', '20230501_WEC_Energy_Group_Inc-_Earnings_Call_2023-5-01_RT000000003014164514_RESULT.txt', '20231031_WEC_Energy_Group_Inc-_Earnings_Call_2023-10-31_RT000000003024826819_RESULT.txt', '20240201_WEC_Energy_Group_Inc-_Earnings_Call_2024-2-01_DN000000003030960477_RESULT.txt'], 'CWT': ['20230727_California_Water_Service_Group-_Earnings_Call_2023-7-27_DN000000003017806384_RESULT.txt', '20230427_California_Water_Service_Group-_Earnings_Call_2023-4-27_DN000000003009871066_RESULT.txt', '20231026_California_Water_Service_Group-_Earnings_Call_2023-10-26_DN000000003024480742_RESULT.txt', '20240229_California_Water_Service_Group-_Earnings_Call_2024-2-29_DN000000003032964904_RESULT.txt'], 'IDA': ['20230504_IDACORP_Inc-_Earnings_Call_2023-5-04_DN000000003010649274_RESULT.txt', '20231102_IDACORP_Inc-_Earnings_Call_2023-11-02_DN000000003025157702_RESULT.txt', '20230803_IDACORP_Inc-_Earnings_Call_2023-8-03_DN000000003018368992_RESULT.txt', '20240215_IDACORP_Inc-_Earnings_Call_2024-2-15_DN000000003031881860_RESULT.txt'], 'PNM': ['20230804_PNM_Resources_Inc-_Earnings_Call_2023-8-04_RT000000003018774941_RESULT.txt', '20231027_PNM_Resources_Inc-_Earnings_Call_2023-10-27_DN000000003024568068_RESULT.txt', '20240206_PNM_Resources_Inc-_Earnings_Call_2024-2-06_RT000000003032528724_RESULT.txt', '20230505_PNM_Resources_Inc-_Earnings_Call_2023-5-05_RT000000003010769425_RESULT.txt'], 'EIX': ['20230727_Edison_International-_Earnings_Call_2023-7-27_RT000000003017902508_RESULT.txt', '20240222_Edison_International-_Earnings_Call_2024-2-22_RT000000003032598043_RESULT.txt', '20231101_Edison_International-_Earnings_Call_2023-11-01_RT000000003024951143_RESULT.txt', '20230502_Edison_International-_Earnings_Call_2023-5-02_DN000000003010390573_RESULT.txt'], 'SR': ['20231116_Spire_Inc-_Earnings_Call_2023-11-16_DN000000003027527181_RESULT.txt', '20230802_Spire_Inc-_Earnings_Call_2023-8-02_DN000000003018188576_RESULT.txt', '20240201_Spire_Inc-_Earnings_Call_2024-2-01_DN000000003030943388_RESULT.txt', '20230503_Spire_Inc-_Earnings_Call_2023-5-03_DN000000003010492695_RESULT.txt'], 'SO': ['20240215_Southern_Co-The-_Earnings_Call_2024-2-15_DN000000003031866882_RESULT.txt', '20231102_Southern_Co-The-_Earnings_Call_2023-11-02_RT000000003025076129_RESULT.txt', '20230427_Southern_Co-The-_Earnings_Call_2023-4-27_RT000000003009871684_RESULT.txt', '20230803_Southern_Co-The-_Earnings_Call_2023-8-03_RT000000003018324976_RESULT.txt'], 'NWE': ['20230428_Northwestern_Energy_Group_Inc-_Earnings_Call_2023-4-28_DN000000003010069302_RESULT.txt', '20240215_Northwestern_Energy_Group_Inc-_Earnings_Call_2024-2-15_DN000000003031866129_RESULT.txt', '20230726_Northwestern_Energy_Group_Inc-_Earnings_Call_2023-7-26_RT000000003017657670_RESULT.txt', '20231027_Northwestern_Energy_Group_Inc-_Earnings_Call_2023-10-27_DN000000003024587099_RESULT.txt'], 'AEE': ['20231109_Ameren_Corp-_Earnings_Call_2023-11-09_DN000000003025730778_RESULT.txt', '20240223_Ameren_Corp-_Earnings_Call_2024-2-23_RT000000003032484732_RESULT.txt', '20230505_Ameren_Corp-_Earnings_Call_2023-5-05_DN000000003010728321_RESULT.txt', '20230803_Ameren_Corp-_Earnings_Call_2023-8-03_RT000000003018306480_RESULT.txt'], 'BKH': ['20230504_Black_Hills_Corp-_Earnings_Call_2023-5-04_DN000000003010597383_RESULT.txt', '20240208_Black_Hills_Corp-_Earnings_Call_2024-2-08_RT000000003031544168_RESULT.txt', '20230803_Black_Hills_Corp-_Earnings_Call_2023-8-03_RT000000003018314330_RESULT.txt', '20231102_Black_Hills_Corp-_Earnings_Call_2023-11-02_RT000000003025063310_RESULT.txt'], 'DUK': ['20240208_Duke_Energy_Corp-_Earnings_Call_2024-2-08_DN000000003031366258_RESULT.txt', '20230509_Duke_Energy_Corp-_Earnings_Call_2023-5-09_RT000000003011072608_RESULT.txt', '20230808_Duke_Energy_Corp-_Earnings_Call_2023-8-08_RT000000003018791235_RESULT.txt', '20231102_Duke_Energy_Corp-_Earnings_Call_2023-11-02_DN000000003025047267_RESULT.txt'], 'OGE': ['20230809_OGE_Energy_Corp-_Earnings_Call_2023-8-09_RT000000003019042376_RESULT.txt', '20240221_OGE_Energy_Corp-_Earnings_Call_2024-2-21_DN000000003032182788_RESULT.txt', '20230504_OGE_Energy_Corp-_Earnings_Call_2023-5-04_DN000000003010595481_RESULT.txt', '20231102_OGE_Energy_Corp-_Earnings_Call_2023-11-02_DN000000003025048315_RESULT.txt'], 'ATO': ['20230803_Atmos_Energy_Corp-_Earnings_Call_2023-8-03_RT000000003018296051_RESULT.txt', '20230504_Atmos_Energy_Corp-_Earnings_Call_2023-5-04_RT000000003010676076_RESULT.txt', '20231109_Atmos_Energy_Corp-_Earnings_Call_2023-11-09_DN000000003025708254_RESULT.txt', '20240207_Atmos_Energy_Corp-_Earnings_Call_2024-2-07_DN000000003033112936_RESULT.txt'], 'CHK': ['20230503_Chesapeake_Energy_Corp-_Earnings_Call_2023-5-03_DN000000003010482868_RESULT.txt', '20240221_Chesapeake_Energy_Corp-_Earnings_Call_2024-2-21_RT000000003032178792_RESULT.txt', '20231101_Chesapeake_Energy_Corp-_Earnings_Call_2023-11-01_RT000000003024901938_RESULT.txt', '20230802_Chesapeake_Energy_Corp-_Earnings_Call_2023-8-02_RT000000003018201988_RESULT.txt'], 'D': ['20240222_Dominion_Energy_Inc-_Earnings_Call_2024-2-22_RT000000003032349645_RESULT.txt', '20230505_Dominion_Energy_Inc-_Earnings_Call_2023-5-05_RT000000003010764768_RESULT.txt', '20231103_Dominion_Energy_Inc-_Earnings_Call_2023-11-03_RT000000003025232430_RESULT.txt', '20230804_Dominion_Energy_Inc-_Earnings_Call_2023-8-04_DN000000003019657474_RESULT.txt'], 'CWEN/A': ['20240222_Clearway_Energy_Inc-_Earnings_Call_2024-2-22_RT000000003032385114_RESULT.txt', '20230808_Clearway_Energy_Inc-_Earnings_Call_2023-8-08_RT000000003018770615_RESULT.txt', '20231102_Clearway_Energy_Inc-_Earnings_Call_2023-11-02_RT000000003025026053_RESULT.txt', '20230504_Clearway_Energy_Inc-_Earnings_Call_2023-5-04_RT000000003010833342_RESULT.txt'], 'PNW': ['20240227_Pinnacle_West_Capital_Corp-_Earnings_Call_2024-2-27_DN000000003032690348_RESULT.txt', '20230803_Pinnacle_West_Capital_Corp-_Earnings_Call_2023-8-03_DN000000003018320763_RESULT.txt', '20230504_Pinnacle_West_Capital_Corp-_Earnings_Call_2023-5-04_DN000000003010600998_RESULT.txt', '20231102_Pinnacle_West_Capital_Corp-_Earnings_Call_2023-11-02_RT000000003025058578_RESULT.txt'], 'EVRG': ['20230505_Evergy_Inc-_Earnings_Call_2023-5-05_DN000000003010731336_RESULT.txt', '20231107_Evergy_Inc-_Earnings_Call_2023-11-07_RT000000003025450744_RESULT.txt', '20230804_Evergy_Inc-_Earnings_Call_2023-8-04_DN000000003019730505_RESULT.txt', '20240229_Evergy_Inc-_Earnings_Call_2024-2-29_DN000000003032957786_RESULT.txt'], 'ALE': ['20240220_ALLETE_Inc-_Earnings_Call_2024-2-20_DN000000003034073342_RESULT.txt', '20231102_ALLETE_Inc-_Earnings_Call_2023-11-02_RT000000003025260707_RESULT.txt', '20230503_ALLETE_Inc-_Earnings_Call_2023-5-03_DN000000003010484334_RESULT.txt', '20230808_ALLETE_Inc-_Earnings_Call_2023-8-08_DN000000003018783849_RESULT.txt'], 'VST': ['20230509_Vistra_Corp-_Earnings_Call_2023-5-09_RT000000003011218386_RESULT.txt', '20230809_Vistra_Corp-_Earnings_Call_2023-8-09_RT000000003018974735_RESULT.txt', '20240228_Vistra_Corp-_Earnings_Call_2024-2-28_RT000000003032836161_RESULT.txt', '20231107_Vistra_Corp-_Earnings_Call_2023-11-07_RT000000003025450216_RESULT.txt'], 'NRG': ['20230504_NRG_Energy_Inc-_Earnings_Call_2023-5-04_RT000000003010745314_RESULT.txt', '20240228_NRG_Energy_Inc-_Earnings_Call_2024-2-28_DN000000003032825394_RESULT.txt', '20231102_NRG_Energy_Inc-_Earnings_Call_2023-11-02_DN000000003027005479_RESULT.txt', '20230808_NRG_Energy_Inc-_Earnings_Call_2023-8-08_RT000000003018801129_RESULT.txt'], 'ETR': ['20231101_Entergy_Corp-_Earnings_Call_2023-11-01_RT000000003024998958_RESULT.txt', '20240222_Entergy_Corp-_Earnings_Call_2024-2-22_DN000000003032308749_RESULT.txt', '20230426_Entergy_Corp-_Earnings_Call_2023-4-26_RT000000003009673091_RESULT.txt', '20230802_Entergy_Corp-_Earnings_Call_2023-8-02_RT000000003018196515_RESULT.txt'], 'OTTR': ['20230801_Otter_Tail_Corp-_Earnings_Call_2023-8-01_DN000000003018080356_RESULT.txt', '20230502_Otter_Tail_Corp-_Earnings_Call_2023-5-02_RT000000003010382797_RESULT.txt', '20231031_Otter_Tail_Corp-_Earnings_Call_2023-10-31_DN000000003026923484_RESULT.txt', '20240213_Otter_Tail_Corp-_Earnings_Call_2024-2-13_DN000000003031633640_RESULT.txt'], 'SWX': ['20230509_Southwest_Gas_Holdings_Inc-_Earnings_Call_2023-5-09_DN000000003011065992_RESULT.txt', '20230809_Southwest_Gas_Holdings_Inc-_Earnings_Call_2023-8-09_DN000000003018984344_RESULT.txt', '20240228_Southwest_Gas_Holdings_Inc-_Earnings_Call_2024-2-28_DN000000003035338692_RESULT.txt', '20231108_Southwest_Gas_Holdings_Inc-_Earnings_Call_2023-11-08_DN000000003025575315_RESULT.txt'], 'UGI': ['20230504_UGI_Corp-_Earnings_Call_2023-5-04_DN000000003010579907_RESULT.txt', '20230803_UGI_Corp-_Earnings_Call_2023-8-03_RT000000003018294328_RESULT.txt', '20231117_UGI_Corp-_Earnings_Call_2023-11-17_DN000000003027540172_RESULT.txt', '20240201_UGI_Corp-_Earnings_Call_2024-2-01_RT000000003030988381_RESULT.txt'], 'NWN': ['20230803_Northwest_Natural_Holding_Co-_Earnings_Call_2023-8-03_RT000000003018307391_RESULT.txt', '20231103_Northwest_Natural_Holding_Co-_Earnings_Call_2023-11-03_DN000000003025232993_RESULT.txt', '20230504_Northwest_Natural_Holding_Co-_Earnings_Call_2023-5-04_RT000000003014975425_RESULT.txt', '20240223_Northwest_Natural_Holding_Co-_Earnings_Call_2024-2-23_DN000000003032445682_RESULT.txt'], 'EXC': ['20231102_Exelon_Corp-_Earnings_Call_2023-11-02_RT000000003025047111_RESULT.txt', '20230802_Exelon_Corp-_Earnings_Call_2023-8-02_RT000000003018195671_RESULT.txt', '20240221_Exelon_Corp-_Earnings_Call_2024-2-21_DN000000003032187386_RESULT.txt', '20230503_Exelon_Corp-_Earnings_Call_2023-5-03_RT000000003010486418_RESULT.txt'], 'SJW': ['20230501_SJW_Group-_Earnings_Call_2023-5-01_DN000000003010261031_RESULT.txt', '20230731_SJW_Group-_Earnings_Call_2023-7-31_DN000000003019617318_RESULT.txt', '20231030_SJW_Group-_Earnings_Call_2023-10-30_RT000000003024758016_RESULT.txt', '20240222_SJW_Group-_Earnings_Call_2024-2-22_DN000000003032336183_RESULT.txt'], 'NEE': ['20231024_NextEra_Energy_Inc-_Earnings_Call_2023-10-24_RT000000003024233526_RESULT.txt', '20230725_NextEra_Energy_Inc-_Earnings_Call_2023-7-25_RT000000003017597023_RESULT.txt', '20230425_NextEra_Energy_Inc-_Earnings_Call_2023-4-25_RT000000003010349901_RESULT.txt', '20240125_NextEra_Energy_Inc-_Earnings_Call_2024-1-25_RT000000003030674925_RESULT.txt'], 'OGS': ['20240222_ONE_Gas_Inc-_Earnings_Call_2024-2-22_DN000000003032307540_RESULT.txt', '20230801_ONE_Gas_Inc-_Earnings_Call_2023-8-01_RT000000003018082651_RESULT.txt', '20230502_ONE_Gas_Inc-_Earnings_Call_2023-5-02_RT000000003010382842_RESULT.txt', '20231031_ONE_Gas_Inc-_Earnings_Call_2023-10-31_DN000000003026769304_RESULT.txt'], 'ES': ['20230801_Eversource_Energy-_Earnings_Call_2023-8-01_DN000000003019732490_RESULT.txt', '20231106_Eversource_Energy-_Earnings_Call_2023-11-06_DN000000003025345161_RESULT.txt', '20240214_Eversource_Energy-_Earnings_Call_2024-2-14_RT000000003032047714_RESULT.txt', '20230504_Eversource_Energy-_Earnings_Call_2023-5-04_RT000000003010745018_RESULT.txt'], 'POR': ['20231027_Portland_General_Electric_Co-_Earnings_Call_2023-10-27_DN000000003024582919_RESULT.txt', '20230728_Portland_General_Electric_Co-_Earnings_Call_2023-7-28_RT000000003017868086_RESULT.txt', '20230428_Portland_General_Electric_Co-_Earnings_Call_2023-4-28_DN000000003010070993_RESULT.txt', '20240216_Portland_General_Electric_Co-_Earnings_Call_2024-2-16_RT000000003031967396_RESULT.txt'], 'AWR': ['20231107_American_States_Water_Co-_Earnings_Call_2023-11-07_DN000000003025475679_RESULT.txt', '20230808_American_States_Water_Co-_Earnings_Call_2023-8-08_DN000000003018835145_RESULT.txt', '20240222_American_States_Water_Co-_Earnings_Call_2024-2-22_DN000000003032324324_RESULT.txt', '20230511_American_States_Water_Co-_Earnings_Call_2023-5-11_DN000000003011424077_RESULT.txt'], 'WTRG': ['20230509_Essential_Utilities_Inc-_Earnings_Call_2023-5-09_DN000000003011065793_RESULT.txt', '20240223_Essential_Utilities_Inc-_Earnings_Call_2024-2-23_DN000000003032451754_RESULT.txt', '20231107_Essential_Utilities_Inc-_Earnings_Call_2023-11-07_RT000000003025485865_RESULT.txt', '20230808_Essential_Utilities_Inc-_Earnings_Call_2023-8-08_DN000000003018801278_RESULT.txt'], 'FE': ['20240209_FirstEnergy_Corp-_Earnings_Call_2024-2-09_DN000000003031462858_RESULT.txt', '20230428_FirstEnergy_Corp-_Earnings_Call_2023-4-28_RT000000003010032321_RESULT.txt', '20230802_FirstEnergy_Corp-_Earnings_Call_2023-8-02_DN000000003018200924_RESULT.txt', '20231027_FirstEnergy_Corp-_Earnings_Call_2023-10-27_RT000000003024561906_RESULT.txt'], 'NI': ['20230802_NiSource_Inc-_Earnings_Call_2023-8-02_DN000000003018201344_RESULT.txt', '20230503_NiSource_Inc-_Earnings_Call_2023-5-03_DN000000003010487541_RESULT.txt', '20240221_NiSource_Inc-_Earnings_Call_2024-2-21_RT000000003032190858_RESULT.txt', '20231101_NiSource_Inc-_Earnings_Call_2023-11-01_RT000000003024922452_RESULT.txt'], 'XEL': ['20230727_Xcel_Energy_Inc-_Earnings_Call_2023-7-27_DN000000003017865277_RESULT.txt', '20240125_Xcel_Energy_Inc-_Earnings_Call_2024-1-25_DN000000003031958170_RESULT.txt', '20231027_Xcel_Energy_Inc-_Earnings_Call_2023-10-27_DN000000003024571357_RESULT.txt', '20230427_Xcel_Energy_Inc-_Earnings_Call_2023-4-27_DN000000003009868327_RESULT.txt'], 'PPL': ['20230804_PPL_Corp-_Earnings_Call_2023-8-04_DN000000003018483755_RESULT.txt', '20231102_PPL_Corp-_Earnings_Call_2023-11-02_RT000000003025049716_RESULT.txt', '20230504_PPL_Corp-_Earnings_Call_2023-5-04_DN000000003010613267_RESULT.txt', '20240216_PPL_Corp-_Earnings_Call_2024-2-16_RT000000003031945975_RESULT.txt'], 'CMS': ['20231026_CMS_Energy_Corp-_Earnings_Call_2023-10-26_RT000000003024588971_RESULT.txt', '20230427_CMS_Energy_Corp-_Earnings_Call_2023-4-27_RT000000003009864689_RESULT.txt', '20240201_CMS_Energy_Corp-_Earnings_Call_2024-2-01_DN000000003030947290_RESULT.txt', '20230727_CMS_Energy_Corp-_Earnings_Call_2023-7-27_DN000000003017748126_RESULT.txt'], 'DTE': ['20230727_DTE_Energy_Co-_Earnings_Call_2023-7-27_RT000000003017761149_RESULT.txt', '20231101_DTE_Energy_Co-_Earnings_Call_2023-11-01_RT000000003024911355_RESULT.txt', '20230427_DTE_Energy_Co-_Earnings_Call_2023-4-27_DN000000003009843932_RESULT.txt', '20240208_DTE_Energy_Co-_Earnings_Call_2024-2-08_RT000000003031590246_RESULT.txt'], 'AWK': ['20230427_American_Water_Works_Co_Inc-_Earnings_Call_2023-4-27_DN000000003009846020_RESULT.txt', '20240215_American_Water_Works_Co_Inc-_Earnings_Call_2024-2-15_DN000000003031844967_RESULT.txt', '20230727_American_Water_Works_Co_Inc-_Earnings_Call_2023-7-27_DN000000003017751719_RESULT.txt', '20231102_American_Water_Works_Co_Inc-_Earnings_Call_2023-11-02_DN000000003025031062_RESULT.txt'], 'UTL': ['20240213_Unitil_Corp-_Earnings_Call_2024-2-13_DN000000003031625314_RESULT.txt', '20230502_Unitil_Corp-_Earnings_Call_2023-5-02_RT000000003010365468_RESULT.txt', '20231107_Unitil_Corp-_Earnings_Call_2023-11-07_DN000000003027005255_RESULT.txt', '20230801_Unitil_Corp-_Earnings_Call_2023-8-01_RT000000003018075231_RESULT.txt'], 'NFG': ['20230803_National_Fuel_Gas_Co-_Earnings_Call_2023-8-03_DN000000003018337563_RESULT.txt', '20231102_National_Fuel_Gas_Co-_Earnings_Call_2023-11-02_DN000000003025039823_RESULT.txt', '20230504_National_Fuel_Gas_Co-_Earnings_Call_2023-5-04_RT000000003010745700_RESULT.txt', '20240208_National_Fuel_Gas_Co-_Earnings_Call_2024-2-08_RT000000003031364772_RESULT.txt'], 'NJR': ['20240206_New_Jersey_Resources_Corp-_Earnings_Call_2024-2-06_RT000000003031191737_RESULT.txt', '20230803_New_Jersey_Resources_Corp-_Earnings_Call_2023-8-03_RT000000003018308369_RESULT.txt', '20230504_New_Jersey_Resources_Corp-_Earnings_Call_2023-5-04_DN000000003010600991_RESULT.txt', '20231121_New_Jersey_Resources_Corp-_Earnings_Call_2023-11-21_RT000000003026710547_RESULT.txt'], 'PEG': ['20230502_Public_Service_Enterprise_Group_Inc-_Earnings_Call_2023-5-02_RT000000003010411666_RESULT.txt', '20240226_Public_Service_Enterprise_Group_Inc-_Earnings_Call_2024-2-26_RT000000003032573639_RESULT.txt', '20230801_Public_Service_Enterprise_Group_Inc-_Earnings_Call_2023-8-01_RT000000003018080199_RESULT.txt', '20231031_Public_Service_Enterprise_Group_Inc-_Earnings_Call_2023-10-31_DN000000003024826625_RESULT.txt'], 'ORA': ['20231109_Ormat_Technologies_Inc-_Earnings_Call_2023-11-09_DN000000003025783238_RESULT.txt', '20230803_Ormat_Technologies_Inc-_Earnings_Call_2023-8-03_DN000000003019894576_RESULT.txt', '20230510_Ormat_Technologies_Inc-_Earnings_Call_2023-5-10_DN000000003011216171_RESULT.txt', '20240222_Ormat_Technologies_Inc-_Earnings_Call_2024-2-22_DN000000003032309259_RESULT.txt'], 'CNP': ['20230427_CenterPoint_Energy_Inc-_Earnings_Call_2023-4-27_RT000000003009828995_RESULT.txt', '20231026_CenterPoint_Energy_Inc-_Earnings_Call_2023-10-26_DN000000003024457325_RESULT.txt', '20230727_CenterPoint_Energy_Inc-_Earnings_Call_2023-7-27_RT000000003017750419_RESULT.txt', '20240220_CenterPoint_Energy_Inc-_Earnings_Call_2024-2-20_RT000000003032092854_RESULT.txt'], 'CEG': ['20231106_Constellation_Energy_Corp-_Earnings_Call_2023-11-06_RT000000003025420056_RESULT.txt', '20230803_Constellation_Energy_Corp-_Earnings_Call_2023-8-03_SD000000003018373996_RESULT.txt', '20230504_Constellation_Energy_Corp-_Earnings_Call_2023-5-04_DN000000003010610085_RESULT.txt', '20240227_Constellation_Energy_Corp-_Earnings_Call_2024-2-27_SD000000003032667878_RESULT.txt'], 'AEP': ['20231102_American_Electric_Power_Co_Inc-_Earnings_Call_2023-11-02_RT000000003025046396_RESULT.txt', '20240227_American_Electric_Power_Co_Inc-_Earnings_Call_2024-2-27_RT000000003032705579_RESULT.txt', '20230727_American_Electric_Power_Co_Inc-_Earnings_Call_2023-7-27_RT000000003017787679_RESULT.txt', '20230504_American_Electric_Power_Co_Inc-_Earnings_Call_2023-5-04_DN000000003010597667_RESULT.txt']}\n"
     ]
    }
   ],
   "source": [
    "eps_data = {\n",
    "    'fileName': [],\n",
    "    'date': [],\n",
    "    'ticker': [],\n",
    "    \"EPS Estimate\": [],\n",
    "    \"Reported EPS\": [],\n",
    "    \"Surprise(%)\": [],\n",
    "}\n",
    "\n",
    "noEPS = {}\n",
    "for ticker, files in TickerToFiles.items():\n",
    "    if ticker not in yf_eps:\n",
    "        noEPS[ticker] = files\n",
    "        continue\n",
    "    for fileName in files:\n",
    "        date = fileName[:8]\n",
    "        date_obj = datetime.strptime(date, '%Y%m%d')\n",
    "        dayBefore = (date_obj - timedelta(days=1)).strftime('%Y%m%d')\n",
    "        dayAfter = (date_obj + timedelta(days=1)).strftime('%Y%m%d')\n",
    "        if date in yf_eps[ticker]:\n",
    "            eps_data['fileName'].append(fileName)\n",
    "            eps_data['date'].append(date)\n",
    "            eps_data['ticker'].append(ticker)\n",
    "            eps_data[\"EPS Estimate\"].append(yf_eps[ticker][date][\"EPS Estimate\"])\n",
    "            eps_data[\"Reported EPS\"].append(yf_eps[ticker][date][\"Reported EPS\"])\n",
    "            eps_data[\"Surprise(%)\"].append(yf_eps[ticker][date][\"Surprise(%)\"])\n",
    "            continue\n",
    "        elif dayBefore in yf_eps[ticker]:\n",
    "            eps_data['fileName'].append(fileName)\n",
    "            eps_data['date'].append(date)\n",
    "            eps_data['ticker'].append(ticker)\n",
    "            eps_data[\"EPS Estimate\"].append(yf_eps[ticker][dayBefore][\"EPS Estimate\"])\n",
    "            eps_data[\"Reported EPS\"].append(yf_eps[ticker][dayBefore][\"Reported EPS\"])\n",
    "            eps_data[\"Surprise(%)\"].append(yf_eps[ticker][dayBefore][\"Surprise(%)\"])\n",
    "            continue\n",
    "        elif dayAfter in yf_eps[ticker]:\n",
    "            eps_data['fileName'].append(fileName)\n",
    "            eps_data['date'].append(date)\n",
    "            eps_data['ticker'].append(ticker)\n",
    "            eps_data[\"EPS Estimate\"].append(yf_eps[ticker][dayAfter][\"EPS Estimate\"])\n",
    "            eps_data[\"Reported EPS\"].append(yf_eps[ticker][dayAfter][\"Reported EPS\"])\n",
    "            eps_data[\"Surprise(%)\"].append(yf_eps[ticker][dayAfter][\"Surprise(%)\"])\n",
    "            continue\n",
    "        else:\n",
    "            if ticker in noEPS:\n",
    "                noEPS[ticker].append(fileName)\n",
    "            else:\n",
    "                noEPS[ticker] = [fileName]\n",
    "\n",
    "print(noEPS)"
   ]
  },
  {
   "cell_type": "code",
   "execution_count": 8,
   "metadata": {},
   "outputs": [
    {
     "data": {
      "text/plain": [
       "'UtilitiesNamesEPS.xlsx'"
      ]
     },
     "execution_count": 8,
     "metadata": {},
     "output_type": "execute_result"
    }
   ],
   "source": [
    "df = pd.read_excel('UtilitiesNamesEPS.xlsx')\n",
    "\n",
    "eps_df = pd.DataFrame(eps_data)\n",
    "\n",
    "# Ensure the date columns are strings\n",
    "df['date'] = df['date'].astype(str)\n",
    "eps_df['date'] = eps_df['date'].astype(str)\n",
    "\n",
    "# Ensure the fileName columns are strings\n",
    "df['fileName'] = df['fileName'].astype(str)\n",
    "eps_df['fileName'] = eps_df['fileName'].astype(str)\n",
    "\n",
    "# Merge the original DataFrame with the EPS DataFrame on 'fileName' and 'date'\n",
    "merged_df = pd.merge(df, eps_df, how='left', left_on=['fileName', 'date'], right_on=['fileName', 'date'])\n",
    "\n",
    "# Save the merged DataFrame to a new Excel file\n",
    "output_file_path = 'UtilitiesNamesEPS.xlsx'\n",
    "merged_df.to_excel(output_file_path, index=False)\n",
    "\n",
    "output_file_path"
   ]
  },
  {
   "cell_type": "markdown",
   "metadata": {},
   "source": [
    "Tests Below"
   ]
  },
  {
   "cell_type": "code",
   "execution_count": null,
   "metadata": {},
   "outputs": [],
   "source": [
    "print(getEPS(['DAN']))"
   ]
  },
  {
   "cell_type": "code",
   "execution_count": 9,
   "metadata": {},
   "outputs": [
    {
     "name": "stdout",
     "output_type": "stream",
     "text": [
      "                           EPS Estimate  Reported EPS  Surprise(%)\n",
      "Earnings Date                                                     \n",
      "2025-05-07 08:00:00-04:00           NaN           NaN          NaN\n",
      "2025-02-20 08:00:00-05:00           NaN           NaN          NaN\n",
      "2024-10-31 08:00:00-04:00           NaN           NaN          NaN\n",
      "2024-08-01 08:00:00-04:00          0.76           NaN          NaN\n",
      "2024-05-09 06:00:00-04:00         -0.25         -0.02       0.9192\n",
      "2024-02-22 06:00:00-05:00          0.04          0.31       7.2667\n",
      "2023-11-02 06:00:00-04:00          0.66          0.03      -0.9542\n",
      "2023-08-08 06:00:00-04:00          0.60          0.33      -0.4515\n",
      "2023-05-04 06:00:00-04:00         -0.37           NaN       1.0000\n",
      "2023-02-23 06:00:00-05:00         -0.88          0.10       1.1141\n",
      "2022-11-02 06:00:00-04:00          0.34          0.28      -0.1813\n",
      "2022-08-02 06:00:00-04:00          0.46          4.89       9.5844\n",
      "2022-05-05 06:00:00-04:00         -0.07         -0.28      -3.0000\n",
      "2022-02-28 06:00:00-05:00          0.13         -0.07      -1.5303\n",
      "2021-11-04 06:00:00-04:00          0.74          0.18      -0.7551\n",
      "2021-08-03 06:00:00-04:00          0.35          0.30      -0.1429\n",
      "2021-05-06 06:00:00-04:00         -0.15          0.03       1.1967\n",
      "2021-03-01 06:00:00-05:00          0.65         -0.21      -1.3218\n",
      "2020-11-05 06:00:00-05:00          0.62          0.27      -0.5663\n",
      "2020-08-06 06:00:00-04:00          0.57          0.41      -0.2807\n",
      "2020-05-07 06:00:00-04:00         -0.02         -0.26      -9.4000\n",
      "2020-02-27 06:00:00-05:00          0.44         -0.06      -1.1356\n",
      "2019-11-06 06:00:00-05:00          0.46          0.36      -0.2174\n"
     ]
    }
   ],
   "source": [
    "import yfinance as yf\n",
    "comp = yf.Ticker('CWEN-A')\n",
    "eps_company_data = comp.get_earnings_dates(limit=23)\n",
    "\n",
    "print(eps_company_data)\n"
   ]
  },
  {
   "cell_type": "code",
   "execution_count": null,
   "metadata": {},
   "outputs": [],
   "source": []
  }
 ],
 "metadata": {
  "kernelspec": {
   "display_name": "PdfResearch",
   "language": "python",
   "name": "python3"
  },
  "language_info": {
   "codemirror_mode": {
    "name": "ipython",
    "version": 3
   },
   "file_extension": ".py",
   "mimetype": "text/x-python",
   "name": "python",
   "nbconvert_exporter": "python",
   "pygments_lexer": "ipython3",
   "version": "3.12.2"
  }
 },
 "nbformat": 4,
 "nbformat_minor": 2
}
