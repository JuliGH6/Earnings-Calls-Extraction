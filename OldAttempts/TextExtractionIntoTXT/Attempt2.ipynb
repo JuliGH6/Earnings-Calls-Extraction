{
  "cells": [
    {
      "cell_type": "code",
      "execution_count": 1,
      "metadata": {
        "colab": {
          "base_uri": "https://localhost:8080/"
        },
        "id": "Re370n10p78R",
        "outputId": "58106b14-0736-4573-eb83-25cd0c8b9798"
      },
      "outputs": [
        {
          "output_type": "stream",
          "name": "stdout",
          "text": [
            "Collecting PyPDF2\n",
            "  Downloading pypdf2-3.0.1-py3-none-any.whl (232 kB)\n",
            "\u001b[2K     \u001b[90m━━━━━━━━━━━━━━━━━━━━━━━━━━━━━━━━━━━━━━━━\u001b[0m \u001b[32m232.6/232.6 kB\u001b[0m \u001b[31m3.3 MB/s\u001b[0m eta \u001b[36m0:00:00\u001b[0m\n",
            "\u001b[?25hInstalling collected packages: PyPDF2\n",
            "Successfully installed PyPDF2-3.0.1\n",
            "Collecting pdfminer.six\n",
            "  Downloading pdfminer.six-20231228-py3-none-any.whl (5.6 MB)\n",
            "\u001b[2K     \u001b[90m━━━━━━━━━━━━━━━━━━━━━━━━━━━━━━━━━━━━━━━━\u001b[0m \u001b[32m5.6/5.6 MB\u001b[0m \u001b[31m13.4 MB/s\u001b[0m eta \u001b[36m0:00:00\u001b[0m\n",
            "\u001b[?25hRequirement already satisfied: charset-normalizer>=2.0.0 in /usr/local/lib/python3.10/dist-packages (from pdfminer.six) (3.3.2)\n",
            "Requirement already satisfied: cryptography>=36.0.0 in /usr/local/lib/python3.10/dist-packages (from pdfminer.six) (42.0.5)\n",
            "Requirement already satisfied: cffi>=1.12 in /usr/local/lib/python3.10/dist-packages (from cryptography>=36.0.0->pdfminer.six) (1.16.0)\n",
            "Requirement already satisfied: pycparser in /usr/local/lib/python3.10/dist-packages (from cffi>=1.12->cryptography>=36.0.0->pdfminer.six) (2.21)\n",
            "Installing collected packages: pdfminer.six\n",
            "Successfully installed pdfminer.six-20231228\n",
            "Collecting reportlab\n",
            "  Downloading reportlab-4.1.0-py3-none-any.whl (1.9 MB)\n",
            "\u001b[2K     \u001b[90m━━━━━━━━━━━━━━━━━━━━━━━━━━━━━━━━━━━━━━━━\u001b[0m \u001b[32m1.9/1.9 MB\u001b[0m \u001b[31m17.0 MB/s\u001b[0m eta \u001b[36m0:00:00\u001b[0m\n",
            "\u001b[?25hRequirement already satisfied: pillow>=9.0.0 in /usr/local/lib/python3.10/dist-packages (from reportlab) (9.4.0)\n",
            "Requirement already satisfied: chardet in /usr/local/lib/python3.10/dist-packages (from reportlab) (5.2.0)\n",
            "Installing collected packages: reportlab\n",
            "Successfully installed reportlab-4.1.0\n"
          ]
        }
      ],
      "source": [
        "#install libraries\n",
        "!pip install PyPDF2\n",
        "!pip install pdfminer.six\n",
        "!pip install reportlab"
      ]
    },
    {
      "cell_type": "code",
      "source": [
        "from pdfminer.high_level import extract_pages\n",
        "from pdfminer.layout import LTTextContainer\n",
        "from reportlab.lib.pagesizes import letter\n",
        "from reportlab.pdfgen import canvas\n",
        "from PyPDF2 import PdfReader, PdfWriter"
      ],
      "metadata": {
        "id": "9fgkr8Y5-w7k"
      },
      "execution_count": 2,
      "outputs": []
    },
    {
      "cell_type": "code",
      "source": [
        "# testing aroung with writing to pdf\n",
        "\n",
        "from reportlab.lib.pagesizes import letter\n",
        "from reportlab.pdfgen import canvas\n",
        "\n",
        "def create_pdf_with_wrapped_text(text, output_pdf_path, max_width):\n",
        "    c = canvas.Canvas(output_pdf_path, pagesize=letter)\n",
        "\n",
        "    # Split the text into lines to fit within the specified width\n",
        "    lines = []\n",
        "    current_line = ''\n",
        "    for word in text.split():\n",
        "        if c.stringWidth(current_line + ' ' + word) < max_width:\n",
        "            current_line += ' ' + word\n",
        "        else:\n",
        "            lines.append(current_line.strip())\n",
        "            current_line = word\n",
        "    lines.append(current_line.strip())\n",
        "\n",
        "    # Calculate the height of the text block\n",
        "    line_height = 12  # Adjust as needed\n",
        "    text_height = len(lines) * line_height\n",
        "\n",
        "    # Draw the lines of text onto the PDF canvas\n",
        "    y = 750  # Starting y-coordinate\n",
        "    for line in lines:\n",
        "        c.drawString(100, y, line)  # Adjust the coordinates as needed\n",
        "        y -= line_height\n",
        "\n",
        "    c.save()\n",
        "\n",
        "# Example string of text\n",
        "text = \"This is a long string of text that needs to be wrapped to fit within the PDF width.\"\n",
        "\n",
        "# Specify the path for the output PDF file\n",
        "output_pdf_path = \"output_pdf_file.pdf\"\n",
        "\n",
        "# Specify the maximum width for the text block\n",
        "max_width = 400  # Adjust as needed\n",
        "\n",
        "# Create the PDF with the wrapped text\n",
        "create_pdf_with_wrapped_text(text, output_pdf_path, max_width)\n",
        "\n"
      ],
      "metadata": {
        "id": "kfYEofrG9sB_"
      },
      "execution_count": 13,
      "outputs": []
    },
    {
      "cell_type": "code",
      "source": [
        "#receives pdf through the input path\n",
        "#return the first page number on which the phrase exists\n",
        "#if phrase is not found: returns -1\n",
        "def find_transcript_starting_page(input_pdf_path, phrase):\n",
        "    with open(input_pdf_path, 'rb') as infile:\n",
        "        reader = PdfReader(infile)\n",
        "\n",
        "        for page_num in range(len(reader.pages)):\n",
        "            page = reader.pages[page_num]\n",
        "            text = page.extract_text()\n",
        "\n",
        "            if phrase in text:\n",
        "                return list(range(page_num, len(reader.pages)))\n",
        "\n",
        "        return [-1]"
      ],
      "metadata": {
        "id": "A_H2JndrNB95"
      },
      "execution_count": 14,
      "outputs": []
    },
    {
      "cell_type": "code",
      "source": [
        "from pdfminer.high_level import extract_pages\n",
        "from pdfminer.layout import LTTextContainer\n",
        "\n",
        "def extract_text_without_headers_footers(pdf_path, header_height, footer_height, page_height, starting_phrase):\n",
        "    text = \"\"\n",
        "    page_list = find_transcript_starting_page(pdf_path, starting_phrase)\n",
        "\n",
        "    if page_list[0] == -1: return \"\"\n",
        "\n",
        "    for page_layout in extract_pages(pdf_path, page_numbers = page_list):\n",
        "        for element in page_layout:\n",
        "            if isinstance(element, LTTextContainer):\n",
        "                # Check if the text element is within header or footer region\n",
        "                if not is_in_header_or_footer(element, header_height, footer_height, page_height):\n",
        "                    text += element.get_text()\n",
        "    return text\n",
        "\n",
        "def is_in_header_or_footer(text_container, header_height, footer_height, page_height):\n",
        "    # Define the y-coordinate range for the header and footer\n",
        "    header_y_range = (page_height - header_height, page_height)\n",
        "    footer_y_range = (0, footer_height)\n",
        "\n",
        "    # Get the bounding box of the text container\n",
        "    bbox = text_container.bbox\n",
        "\n",
        "    # Check if the text container overlaps with the header or footer y-coordinate ranges\n",
        "    # Here, we're checking if the top or bottom of the text container is within the header or footer range\n",
        "    if bbox[1] >= header_y_range[0] or bbox[3] <= footer_y_range[1]:\n",
        "        return True  # Text container is in header or footer\n",
        "    else:\n",
        "        return False  # Text container is not in header or footer\n",
        "\n",
        "def write_text_to_pdf(text, output_pdf_path):\n",
        "    c = canvas.Canvas(output_pdf_path, pagesize=letter)\n",
        "    c.drawString(100, 750, text)  # Adjust the coordinates as needed\n",
        "    c.save()\n",
        "\n",
        "# Usage example\n",
        "pdf_path = \"test.pdf\"\n",
        "header_height = 50  # Example value, adjust as needed\n",
        "footer_height = 50  # Example value, adjust as needed\n",
        "page_height = 792   # Example value, adjust as needed\n",
        "output_pdf_path = \"output_pdf_file.pdf\"  # Specify the path for the output PDF file\n",
        "starting_phrase = \"FINAL TRANSCRIPT\"\n",
        "extracted_text = extract_text_without_headers_footers(pdf_path, header_height, footer_height, page_height, starting_phrase)\n",
        "# create_pdf_with_wrapped_text(extracted_text, output_pdf_path, 400)\n",
        "with open('example2.txt', 'a') as f:\n",
        "    f.write(extracted_text)\n"
      ],
      "metadata": {
        "id": "IeYuaUPGB749"
      },
      "execution_count": 12,
      "outputs": []
    }
  ],
  "metadata": {
    "colab": {
      "provenance": []
    },
    "kernelspec": {
      "display_name": "Python 3",
      "name": "python3"
    },
    "language_info": {
      "codemirror_mode": {
        "name": "ipython",
        "version": 3
      },
      "file_extension": ".py",
      "mimetype": "text/x-python",
      "name": "python",
      "nbconvert_exporter": "python",
      "pygments_lexer": "ipython3",
      "version": "3.8.18"
    }
  },
  "nbformat": 4,
  "nbformat_minor": 0
}