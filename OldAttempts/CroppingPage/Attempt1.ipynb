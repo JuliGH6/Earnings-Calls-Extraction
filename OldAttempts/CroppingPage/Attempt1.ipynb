{
  "cells": [
    {
      "cell_type": "code",
      "execution_count": 3,
      "metadata": {
        "colab": {
          "base_uri": "https://localhost:8080/"
        },
        "id": "Re370n10p78R",
        "outputId": "b94a813f-6bc4-474b-864d-3fa8c5ae10a9"
      },
      "outputs": [
        {
          "name": "stdout",
          "output_type": "stream",
          "text": [
            "Collecting PyPDF2\n",
            "  Downloading pypdf2-3.0.1-py3-none-any.whl.metadata (6.8 kB)\n",
            "Requirement already satisfied: typing_extensions>=3.10.0.0 in /Users/julianworn/anaconda3/envs/AiClass/lib/python3.8/site-packages (from PyPDF2) (4.10.0)\n",
            "Downloading pypdf2-3.0.1-py3-none-any.whl (232 kB)\n",
            "\u001b[2K   \u001b[90m━━━━━━━━━━━━━━━━━━━━━━━━━━━━━━━━━━━━━━━━\u001b[0m \u001b[32m232.6/232.6 kB\u001b[0m \u001b[31m3.7 MB/s\u001b[0m eta \u001b[36m0:00:00\u001b[0m \u001b[36m0:00:01\u001b[0m\n",
            "\u001b[?25hInstalling collected packages: PyPDF2\n",
            "Successfully installed PyPDF2-3.0.1\n"
          ]
        }
      ],
      "source": [
        "#install libraries\n",
        "!pip install PyPDF2"
      ]
    },
    {
      "cell_type": "code",
      "execution_count": 4,
      "metadata": {
        "id": "iUvEw3MvqFWS"
      },
      "outputs": [],
      "source": [
        "#include libraries\n",
        "import os\n",
        "from PyPDF2 import PdfReader, PdfWriter"
      ]
    },
    {
      "cell_type": "code",
      "execution_count": 106,
      "metadata": {
        "id": "anN4EG0yrEWj"
      },
      "outputs": [],
      "source": [
        "#receives pdf through the input path\n",
        "#return the first page number on which the phrase exists\n",
        "#if phrase is not found: returns -1\n",
        "def find_transcript_starting_page(input_pdf_path, phrase):\n",
        "    with open(input_pdf_path, 'rb') as infile:\n",
        "        reader = PdfReader(infile)\n",
        "\n",
        "        for page_num in range(len(reader.pages)):\n",
        "            page = reader.pages[page_num]\n",
        "            text = page.extract_text()\n",
        "\n",
        "            if phrase in text:\n",
        "                return page_num\n",
        "\n",
        "        return -1"
      ]
    },
    {
      "cell_type": "code",
      "execution_count": 111,
      "metadata": {
        "id": "Bu2q_QvvkP3S"
      },
      "outputs": [],
      "source": [
        "#receives pdf through the input path\n",
        "#writes modified pdf to output path\n",
        "#modified pdf starts at starting page and cuts out the top and bottom of the page\n",
        "def remove_annotations(input_pdf_path, output_pdf_path, starting_page):\n",
        "    with open(input_pdf_path, 'rb') as infile:\n",
        "        reader = PdfReader(infile)\n",
        "        writer = PdfWriter()\n",
        "\n",
        "        for page_num in range(starting_page, len(reader.pages)):\n",
        "            page = reader.pages[page_num]\n",
        "            page.mediabox.lower_left = (page.mediabox.left, page.mediabox.bottom + 55)\n",
        "            page.mediabox.upper_right = (page.mediabox.right, page.mediabox.top - 60)  # Adjust this value as per your requirement to crop footnotes\n",
        "\n",
        "            writer.add_page(page)\n",
        "\n",
        "        with open(output_pdf_path, 'wb') as outfile:\n",
        "            writer.write(outfile)"
      ]
    },
    {
      "cell_type": "code",
      "execution_count": 109,
      "metadata": {
        "id": "G-KZLELCkURU"
      },
      "outputs": [],
      "source": [
        "# Path to the directory containing your PDFs\n",
        "pdf_directory = \"/content/in\"\n",
        "\n",
        "# Output directory to store modified PDFs\n",
        "output_directory = \"/content/out\"\n",
        "\n",
        "# phrase that marks the starting page of the pages that should be included\n",
        "phrase = \"FINAL TRANSCRIPT\"\n",
        "\n",
        "# Iterate through each PDF in the directory\n",
        "for filename in os.listdir(pdf_directory):\n",
        "    if filename.endswith(\".pdf\"):\n",
        "        input_pdf_path = os.path.join(pdf_directory, filename)\n",
        "        output_pdf_path = os.path.join(output_directory, filename)\n",
        "\n",
        "        #get starting page\n",
        "        transcript_starting_page = find_transcript_starting_page(input_pdf_path, phrase)\n",
        "\n",
        "        #if the phrase was found, the document will be edited and written to the out folder\n",
        "        if transcript_starting_page > 0: remove_annotations(input_pdf_path, output_pdf_path, transcript_starting_page)"
      ]
    }
  ],
  "metadata": {
    "colab": {
      "provenance": []
    },
    "kernelspec": {
      "display_name": "Python 3",
      "name": "python3"
    },
    "language_info": {
      "codemirror_mode": {
        "name": "ipython",
        "version": 3
      },
      "file_extension": ".py",
      "mimetype": "text/x-python",
      "name": "python",
      "nbconvert_exporter": "python",
      "pygments_lexer": "ipython3",
      "version": "3.8.18"
    }
  },
  "nbformat": 4,
  "nbformat_minor": 0
}
